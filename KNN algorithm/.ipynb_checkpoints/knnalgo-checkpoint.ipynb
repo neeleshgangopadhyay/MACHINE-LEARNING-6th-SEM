{
 "cells": [
  {
   "cell_type": "code",
   "execution_count": 1,
   "metadata": {
    "_cell_guid": "b1076dfc-b9ad-4769-8c92-a6c4dae69d19",
    "_uuid": "8f2839f25d086af736a60e9eeb907d3b93b6e0e5",
    "execution": {
     "iopub.execute_input": "2021-06-09T09:25:30.220815Z",
     "iopub.status.busy": "2021-06-09T09:25:30.220465Z",
     "iopub.status.idle": "2021-06-09T09:25:30.225691Z",
     "shell.execute_reply": "2021-06-09T09:25:30.224179Z",
     "shell.execute_reply.started": "2021-06-09T09:25:30.220786Z"
    }
   },
   "outputs": [],
   "source": [
    "import math"
   ]
  },
  {
   "cell_type": "code",
   "execution_count": 2,
   "metadata": {
    "execution": {
     "iopub.execute_input": "2021-06-09T09:25:30.228782Z",
     "iopub.status.busy": "2021-06-09T09:25:30.228363Z",
     "iopub.status.idle": "2021-06-09T09:25:30.239674Z",
     "shell.execute_reply": "2021-06-09T09:25:30.238885Z",
     "shell.execute_reply.started": "2021-06-09T09:25:30.228734Z"
    }
   },
   "outputs": [],
   "source": [
    "data = []"
   ]
  },
  {
   "cell_type": "code",
   "execution_count": 3,
   "metadata": {
    "execution": {
     "iopub.execute_input": "2021-06-09T09:25:30.241366Z",
     "iopub.status.busy": "2021-06-09T09:25:30.240945Z",
     "iopub.status.idle": "2021-06-09T09:25:30.256608Z",
     "shell.execute_reply": "2021-06-09T09:25:30.255705Z",
     "shell.execute_reply.started": "2021-06-09T09:25:30.241322Z"
    }
   },
   "outputs": [],
   "source": [
    "\n",
    "with open('haberman.csv', 'r') as f:\n",
    "    for line in f.readlines():\n",
    "        atributes = line.strip('\\n').split(',')\n",
    "        data.append([int(x) for x in atributes])"
   ]
  },
  {
   "cell_type": "code",
   "execution_count": 4,
   "metadata": {
    "execution": {
     "iopub.execute_input": "2021-06-09T09:25:30.258074Z",
     "iopub.status.busy": "2021-06-09T09:25:30.257649Z",
     "iopub.status.idle": "2021-06-09T09:25:30.266117Z",
     "shell.execute_reply": "2021-06-09T09:25:30.264902Z",
     "shell.execute_reply.started": "2021-06-09T09:25:30.258031Z"
    }
   },
   "outputs": [],
   "source": [
    "def info_dataset(data, verbose=True):\n",
    "    label1, label2 = 0, 0\n",
    "    data_size = len(data)\n",
    "    for datum in data:\n",
    "        if datum[-1] == 1:\n",
    "            label1 += 1\n",
    "        else:\n",
    "            label2 += 1\n",
    "    if verbose:\n",
    "        print('Total of samples: %d' % data_size)\n",
    "        print('Total label 1: %d' % label1)\n",
    "        print('Total label 2: %d' % label2)\n",
    "    return [len(data), label1, label2]"
   ]
  },
  {
   "cell_type": "code",
   "execution_count": 5,
   "metadata": {
    "execution": {
     "iopub.execute_input": "2021-06-09T09:25:30.269322Z",
     "iopub.status.busy": "2021-06-09T09:25:30.268752Z",
     "iopub.status.idle": "2021-06-09T09:25:30.281059Z",
     "shell.execute_reply": "2021-06-09T09:25:30.280231Z",
     "shell.execute_reply.started": "2021-06-09T09:25:30.269278Z"
    }
   },
   "outputs": [
    {
     "name": "stdout",
     "output_type": "stream",
     "text": [
      "Total of samples: 306\n",
      "Total label 1: 225\n",
      "Total label 2: 81\n"
     ]
    },
    {
     "data": {
      "text/plain": [
       "[306, 225, 81]"
      ]
     },
     "execution_count": 5,
     "metadata": {},
     "output_type": "execute_result"
    }
   ],
   "source": [
    "info_dataset(data)"
   ]
  },
  {
   "cell_type": "code",
   "execution_count": 6,
   "metadata": {
    "execution": {
     "iopub.execute_input": "2021-06-09T09:25:30.283527Z",
     "iopub.status.busy": "2021-06-09T09:25:30.282937Z",
     "iopub.status.idle": "2021-06-09T09:25:30.291367Z",
     "shell.execute_reply": "2021-06-09T09:25:30.290533Z",
     "shell.execute_reply.started": "2021-06-09T09:25:30.283482Z"
    }
   },
   "outputs": [],
   "source": [
    "p = 0.6\n",
    "_, label1, label2 = info_dataset(data,False)"
   ]
  },
  {
   "cell_type": "code",
   "execution_count": 7,
   "metadata": {
    "execution": {
     "iopub.execute_input": "2021-06-09T09:25:30.294007Z",
     "iopub.status.busy": "2021-06-09T09:25:30.293508Z",
     "iopub.status.idle": "2021-06-09T09:25:30.304848Z",
     "shell.execute_reply": "2021-06-09T09:25:30.303657Z",
     "shell.execute_reply.started": "2021-06-09T09:25:30.293967Z"
    }
   },
   "outputs": [],
   "source": [
    "train_set, test_set = [], []\n",
    "max_label1, max_label2 = int(p * label1), int(p * label2)\n",
    "total_label1, total_label2 = 0, 0\n",
    "for sample in data:\n",
    "    if (total_label1 + total_label2) < (max_label1 + max_label2):\n",
    "        train_set.append(sample)\n",
    "        if sample[-1] == 1 and total_label1 < max_label1:\n",
    "            total_label1 += 1\n",
    "        else:\n",
    "            total_label2 += 1\n",
    "    else:\n",
    "        test_set.append(sample)"
   ]
  },
  {
   "cell_type": "code",
   "execution_count": 8,
   "metadata": {
    "execution": {
     "iopub.execute_input": "2021-06-09T09:25:30.307452Z",
     "iopub.status.busy": "2021-06-09T09:25:30.307021Z",
     "iopub.status.idle": "2021-06-09T09:25:30.317654Z",
     "shell.execute_reply": "2021-06-09T09:25:30.316759Z",
     "shell.execute_reply.started": "2021-06-09T09:25:30.307412Z"
    }
   },
   "outputs": [],
   "source": [
    "def euclidian_dist(p1, p2):\n",
    "    dim, sum_ = len(p1), 0\n",
    "    for index in range(dim - 1):\n",
    "        sum_ += math.pow(p1[index] - p2[index], 2)\n",
    "    return math.sqrt(sum_)\n",
    "def knn(train_set, new_sample, K):\n",
    "    dists, train_size = {}, len(train_set)\n",
    "    \n",
    "    for i in range(train_size):\n",
    "        d = euclidian_dist(train_set[i], new_sample)\n",
    "        dists[i] = d\n",
    "    \n",
    "    k_neighbors = sorted(dists, key=dists.get)[:K]\n",
    "    \n",
    "    qty_label1, qty_label2 = 0, 0\n",
    "    for index in k_neighbors:\n",
    "        if train_set[index][-1] == 1:\n",
    "            qty_label1 += 1\n",
    "        else:\n",
    "            qty_label2 += 1\n",
    "            \n",
    "    if qty_label1 > qty_label2:\n",
    "        return 1\n",
    "    else:\n",
    "        return 2\n",
    "    "
   ]
  },
  {
   "cell_type": "code",
   "execution_count": 9,
   "metadata": {
    "execution": {
     "iopub.execute_input": "2021-06-09T09:25:30.319408Z",
     "iopub.status.busy": "2021-06-09T09:25:30.318760Z",
     "iopub.status.idle": "2021-06-09T09:25:30.335455Z",
     "shell.execute_reply": "2021-06-09T09:25:30.334459Z",
     "shell.execute_reply.started": "2021-06-09T09:25:30.319360Z"
    }
   },
   "outputs": [
    {
     "name": "stdout",
     "output_type": "stream",
     "text": [
      "[55, 58, 0, 1]\n",
      "1\n"
     ]
    }
   ],
   "source": [
    "print(test_set[0])\n",
    "print(knn(train_set, test_set[0], 12))"
   ]
  },
  {
   "cell_type": "code",
   "execution_count": 10,
   "metadata": {
    "execution": {
     "iopub.execute_input": "2021-06-09T09:25:30.337137Z",
     "iopub.status.busy": "2021-06-09T09:25:30.336864Z",
     "iopub.status.idle": "2021-06-09T09:25:30.394473Z",
     "shell.execute_reply": "2021-06-09T09:25:30.392814Z",
     "shell.execute_reply.started": "2021-06-09T09:25:30.337111Z"
    }
   },
   "outputs": [
    {
     "name": "stdout",
     "output_type": "stream",
     "text": [
      "Train set size: 183\n",
      "Test set size: 123\n",
      "Correct predicitons: 93\n",
      "Accuracy: 50.82%\n"
     ]
    }
   ],
   "source": [
    "\n",
    "correct, K = 0, 15\n",
    "for sample in test_set:\n",
    "    label = knn(train_set, sample, K)\n",
    "    if sample[-1] == label:\n",
    "        correct += 1\n",
    "print(\"Train set size: %d\" % len(train_set))\n",
    "print(\"Test set size: %d\" % len(test_set))\n",
    "print(\"Correct predicitons: %d\" % correct)\n",
    "print(\"Accuracy: %.2f%%\" % (100 * correct / len(train_set)))"
   ]
  },
  {
   "cell_type": "code",
   "execution_count": null,
   "metadata": {},
   "outputs": [],
   "source": []
  },
  {
   "cell_type": "code",
   "execution_count": null,
   "metadata": {},
   "outputs": [],
   "source": []
  }
 ],
 "metadata": {
  "kernelspec": {
   "display_name": "Python 3",
   "language": "python",
   "name": "python3"
  },
  "language_info": {
   "codemirror_mode": {
    "name": "ipython",
    "version": 3
   },
   "file_extension": ".py",
   "mimetype": "text/x-python",
   "name": "python",
   "nbconvert_exporter": "python",
   "pygments_lexer": "ipython3",
   "version": "3.8.3"
  }
 },
 "nbformat": 4,
 "nbformat_minor": 4
}
