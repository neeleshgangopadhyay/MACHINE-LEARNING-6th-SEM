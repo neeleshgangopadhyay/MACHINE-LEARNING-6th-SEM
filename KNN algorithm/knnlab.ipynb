{
 "cells": [
  {
   "cell_type": "code",
   "execution_count": 1,
   "metadata": {
    "_cell_guid": "b1076dfc-b9ad-4769-8c92-a6c4dae69d19",
    "_uuid": "8f2839f25d086af736a60e9eeb907d3b93b6e0e5",
    "execution": {
     "iopub.execute_input": "2021-06-09T09:05:15.314649Z",
     "iopub.status.busy": "2021-06-09T09:05:15.313965Z",
     "iopub.status.idle": "2021-06-09T09:05:16.675859Z",
     "shell.execute_reply": "2021-06-09T09:05:16.674333Z",
     "shell.execute_reply.started": "2021-06-09T09:05:15.314547Z"
    }
   },
   "outputs": [
    {
     "name": "stdout",
     "output_type": "stream",
     "text": [
      "Iris Data set loaded...\n",
      "Dataset is split into training and testing...\n",
      "Size of trainng data and its label (135, 4) (135,)\n",
      "Size of trainng data and its label (15, 4) (15,)\n",
      "Label 0 - setosa\n",
      "Label 1 - versicolor\n",
      "Label 2 - virginica\n",
      "Results of Classification using K-nn with K=1\n",
      " Sample: [6.3 2.3 4.4 1.3] Actual-label: 1  Predicted-label: 1\n",
      " Sample: [5.2 4.1 1.5 0.1] Actual-label: 0  Predicted-label: 0\n",
      " Sample: [7.2 3.2 6.  1.8] Actual-label: 2  Predicted-label: 2\n",
      " Sample: [5.  3.5 1.3 0.3] Actual-label: 0  Predicted-label: 0\n",
      " Sample: [6.3 2.5 5.  1.9] Actual-label: 2  Predicted-label: 2\n",
      " Sample: [5.3 3.7 1.5 0.2] Actual-label: 0  Predicted-label: 0\n",
      " Sample: [6.7 3.1 4.7 1.5] Actual-label: 1  Predicted-label: 1\n",
      " Sample: [5.7 2.6 3.5 1. ] Actual-label: 1  Predicted-label: 1\n",
      " Sample: [5.7 2.8 4.5 1.3] Actual-label: 1  Predicted-label: 1\n",
      " Sample: [5.1 3.5 1.4 0.2] Actual-label: 0  Predicted-label: 0\n",
      " Sample: [5.  3.3 1.4 0.2] Actual-label: 0  Predicted-label: 0\n",
      " Sample: [5.4 3.  4.5 1.5] Actual-label: 1  Predicted-label: 1\n",
      " Sample: [4.9 3.1 1.5 0.2] Actual-label: 0  Predicted-label: 0\n",
      " Sample: [5.6 3.  4.5 1.5] Actual-label: 1  Predicted-label: 1\n",
      " Sample: [6.1 2.8 4.7 1.2] Actual-label: 1  Predicted-label: 1\n",
      "Classification Accuracy : 1.0\n"
     ]
    }
   ],
   "source": [
    "from sklearn.model_selection import train_test_split \n",
    "from sklearn.neighbors import KNeighborsClassifier \n",
    "from sklearn import datasets\n",
    "\n",
    "# Load dataset \n",
    "iris=datasets.load_iris() \n",
    "print(\"Iris Data set loaded...\")\n",
    "# Split the data into train and test samples\n",
    "x_train, x_test, y_train, y_test = train_test_split(iris.data,iris.target,test_size=0.1) \n",
    "print(\"Dataset is split into training and testing...\")\n",
    "print(\"Size of trainng data and its label\",x_train.shape,y_train.shape) \n",
    "print(\"Size of trainng data and its label\",x_test.shape, y_test.shape)\n",
    "# Prints Label no. and their names \n",
    "for i in range(len(iris.target_names)):\n",
    "    print(\"Label\", i , \"-\",str(iris.target_names[i]))\n",
    "\n",
    "# Create object of KNN classifier\n",
    "classifier = KNeighborsClassifier(n_neighbors=1)\n",
    "\n",
    "# Perform Training\n",
    "classifier.fit(x_train, y_train) \n",
    "# Perform testing\n",
    "y_pred=classifier.predict(x_test)\n",
    "\n",
    "# Display the results\n",
    "print(\"Results of Classification using K-nn with K=1\") \n",
    "for r in range(0,len(x_test)):\n",
    "    print(\" Sample:\", str(x_test[r]), \"Actual-label:\", str(y_test[r]), \" Predicted-label:\",str(y_pred[r]))\n",
    "print(\"Classification Accuracy :\" , classifier.score(x_test,y_test));\n"
   ]
  }
 ],
 "metadata": {
  "kernelspec": {
   "display_name": "Python 3",
   "language": "python",
   "name": "python3"
  },
  "language_info": {
   "codemirror_mode": {
    "name": "ipython",
    "version": 3
   },
   "file_extension": ".py",
   "mimetype": "text/x-python",
   "name": "python",
   "nbconvert_exporter": "python",
   "pygments_lexer": "ipython3",
   "version": "3.8.3"
  }
 },
 "nbformat": 4,
 "nbformat_minor": 4
}
